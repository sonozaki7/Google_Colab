{
  "nbformat": 4,
  "nbformat_minor": 0,
  "metadata": {
    "colab": {
      "provenance": [],
      "include_colab_link": true
    },
    "kernelspec": {
      "name": "python3",
      "display_name": "Python 3"
    },
    "language_info": {
      "name": "python"
    },
    "gpuClass": "standard",
    "accelerator": "GPU"
  },
  "cells": [
    {
      "cell_type": "markdown",
      "metadata": {
        "id": "view-in-github",
        "colab_type": "text"
      },
      "source": [
        "<a href=\"https://colab.research.google.com/github/sonozaki7/Google_Colab/blob/main/SD1_5webui_opensource.ipynb\" target=\"_parent\"><img src=\"https://colab.research.google.com/assets/colab-badge.svg\" alt=\"Open In Colab\"/></a>"
      ]
    },
    {
      "cell_type": "markdown",
      "source": [
        "# セル（薄い灰色の四角いボックス）にマウスを重ねると\n",
        "## 左に再生ボタンが出るので\n",
        "# 上から順番に<font color= \"red\">**全てのセルを**<font color= \"black\">実行して下さい"
      ],
      "metadata": {
        "id": "Cbr7Oyt_PjHF"
      }
    },
    {
      "cell_type": "markdown",
      "source": [
        "**セルを選択した状態で、上のメニューからランタイム＞以降のセルを実行をクリックすると、**\n",
        "\n",
        "**以降の全てのセルが実行されます。便利なので慣れてきたら是非使ってみて下さい！**"
      ],
      "metadata": {
        "id": "BIwGXEVhstyI"
      }
    },
    {
      "cell_type": "code",
      "source": [
        "#自分のGoogle Driveをマウント(Colabが自分のGoogle Driveのファイルにアクセスできるようにする)\n",
        "#実行して少し待つとGoogleアカウントの認証画面に飛ぶので、アカウントを選択したのちに下にスクロールして許可をクリック\n",
        "from google.colab import drive\n",
        "drive.mount('/content/drive')"
      ],
      "metadata": {
        "id": "ac_0g20hpzjZ"
      },
      "execution_count": null,
      "outputs": []
    },
    {
      "cell_type": "code",
      "source": [
        "#エラーが起きたときにいい感じにしてくれるやつ\n",
        "!curl -Lo memfix.zip https://github.com/nolanaatama/sd-webui/raw/main/memfix.zip\n",
        "!unzip /content/memfix.zip\n",
        "!apt install -qq libunwind8-dev\n",
        "!dpkg -i *.deb\n",
        "%env LD_PRELOAD=libtcmalloc.so\n",
        "!rm *\n",
        "!sudo apt install libcairo2-dev"
      ],
      "metadata": {
        "id": "afKo3lUGnYJ0"
      },
      "execution_count": null,
      "outputs": []
    },
    {
      "cell_type": "code",
      "source": [
        "#torch（Pythonの機能の一つ）のアップグレード。xformersより早いSPDAが出たので使えるように。\n",
        "!pip uninstall -y torch torchvision torchtext torchaudio fastai\n",
        "!pip install torch==2.0.0 torchvision==0.15.1 torchtext==0.15.1 torchaudio==2.0.1 -i https://download.pytorch.org/whl/cu118\n",
        "!pip install --upgrade fastapi==0.90.1\n",
        "!pip install tomesd"
      ],
      "metadata": {
        "id": "-kFEODLRdoZu"
      },
      "execution_count": null,
      "outputs": []
    },
    {
      "cell_type": "code",
      "execution_count": null,
      "metadata": {
        "id": "rWdwjgOWdVGd"
      },
      "outputs": [],
      "source": [
        "#AUTOMATIC1111のダウンロード\n",
        "!git clone https://github.com/AUTOMATIC1111/stable-diffusion-webui"
      ]
    },
    {
      "cell_type": "markdown",
      "source": [
        "# **下の３つのパターンのうち、当てはまるセルを実行して下さい！**\n",
        "# **実行する行の先頭の#は外して下さい！実行しない行の先頭には#をつけて下さい！**\n",
        "# **日本語が書いてある行は実行しないので、先頭の#は消さないで下さい！**\n",
        "# **実行する行が黒くなっていればOKです！緑になっている行は実行されません！**"
      ],
      "metadata": {
        "id": "1xrYaT98ONmp"
      }
    },
    {
      "cell_type": "markdown",
      "source": [
        "<font color= \"blue\">パターン①　ChilloutMixを使いたい人はこちらのセルを実行！"
      ],
      "metadata": {
        "id": "FEbGR57wpQnt"
      }
    },
    {
      "cell_type": "code",
      "source": [
        "#Civitaiはこちら！こっちを使う時は!wgetの前についてる#を消して、「#Civitaiが不要の時はこちら！」の下の２行の先頭に#をつけて下さい！\n",
        "#!wget https://civitai.com/api/download/models/11745 -O /content/stable-diffusion-webui/models/Stable-diffusion/chilloutmix_NiPrunedFp32Fix.safetensors\n",
        "\n",
        "#Civitaiが不調の時はこちら！\n",
        "%cd /content/stable-diffusion-webui/models/Stable-diffusion/\n",
        "!curl -LO https://huggingface.co/naonovn/chilloutmix_NiPrunedFp32Fix/resolve/main/chilloutmix_NiPrunedFp32Fix.safetensors"
      ],
      "metadata": {
        "id": "G1MrDF4bpV93"
      },
      "execution_count": null,
      "outputs": []
    },
    {
      "cell_type": "markdown",
      "source": [
        "<font color= \"blue\">パターン②　BRAV5を使いたい人はこちらのセルを実行！"
      ],
      "metadata": {
        "id": "F3bJ-Ri4lsgs"
      }
    },
    {
      "cell_type": "code",
      "source": [
        "#%cd /content/stable-diffusion-webui/models/Stable-diffusion/\n",
        "#!curl -LO https://huggingface.co/BanKaiPls/AsianModel/resolve/main/BRAV5finalfp16.safetensors"
      ],
      "metadata": {
        "id": "1gJbJbnalrra"
      },
      "execution_count": null,
      "outputs": []
    },
    {
      "cell_type": "markdown",
      "source": [
        "<font color= \"blue\">パターン③ 　自分で自家製モデルや違うモデルを使いたい人はこちらのセルを実行！\n",
        "<font color= \"blue\">事前にモデルのアップロードが必要です！"
      ],
      "metadata": {
        "id": "X1vQcTbPpWx2"
      }
    },
    {
      "cell_type": "code",
      "source": [
        "#自分のGoogle Driveにあるモデルを、Colabのサーバーにコピー\n",
        "#「モデルまでのパス」の部分を自分がモデルを置いてる場所に変更してください。\n",
        "#例えば、マイドライブ直下(マイドライブにフォルダなどを作らず、そのままモデルを置いてる場合)なら「/content/drive/MyDrive/普段自分が使ってるモデル名.safetensors」です。\n",
        "#マイドライブの中にフォルダを作ってそこにモデルを置いてるなら「/content/drive/MyDrive/フォルダ名/普段自分が使ってるモデル名.safetensors」です。\n",
        "#フォルダの中にフォルダを作った場合は/(スラッシュ)を足して、モデルの置いてる場所まで書いて下さい。\n",
        "#こっちのセルを実行したい人は次の行の先頭の#を削除して、上のセルの先頭に#を追加して下さい。上のセルの文字が緑色、このセルの最後の行の色が黒色になればOKです。\n",
        "#!cp /content/drive/MyDrive/モデルまでのパス/自分のモデル.safetensors /content/stable-diffusion-webui/models/Stable-diffusion/"
      ],
      "metadata": {
        "id": "AtRzLlBypbxg"
      },
      "execution_count": null,
      "outputs": []
    },
    {
      "cell_type": "code",
      "source": [
        "#他の人のGoogleDriveからモデルをMyDriveにダウンロード。一回だけ実行すればOK。モデルまでにパスは書き換えて下さい。FILE_IDはフェイクなので、書き換えて下さい。\n",
        "#%cd /content/drive/MyDrive/モデルまでのパス/\n",
        "#FILE_ID=\"25CdEYSkr1DsPs33bDUxaaP5gorL1OTEtAbc\"\n",
        "#FILE_NAME=\"BRW1.1.safetensors\"\n",
        "#!curl -sc /tmp/cookie \"https://drive.google.com/uc?export=download&id=$FILE_ID\" > /dev/null\n",
        "#CODE = !awk '/_warning_/ {print $NF}' /tmp/cookie\n",
        "#!curl -Lb /tmp/cookie \"https://drive.google.com/uc?export=download&confirm=$CODE&id=$FILE_ID\" -o \"$FILE_NAME\""
      ],
      "metadata": {
        "id": "mYwgURTVdVes"
      },
      "execution_count": null,
      "outputs": []
    },
    {
      "cell_type": "markdown",
      "source": [
        "以降のセルはどのモデルでも共通です！"
      ],
      "metadata": {
        "id": "c2zxqSBQt8Da"
      }
    },
    {
      "cell_type": "code",
      "source": [
        "#Extensionsの追加\n",
        "#Extensionsフォルダに移動\n",
        "%cd /content/stable-diffusion-webui/extensions\n",
        "\n",
        "#起動オプションに--remotemoeを追加\n",
        "!git clone https://github.com/nolanaatama/sd-webui-tunnels /content/stable-diffusion-webui/extensions/sd-webui-tunnels\n",
        "\n",
        "#プロンプト入力時に入力保管してくれる\n",
        "!git clone https://github.com/DominikDoom/a1111-sd-webui-tagcomplete /content/stable-diffusion-webui/extensions/a1111-sd-webui-tagcomplete\n",
        "\n",
        "#Web Images Browser(Web UIで生成した画像を確認できる拡張機能)\n",
        "!git clone https://github.com/yfszzx/stable-diffusion-webui-images-browser /content/stable-diffusion-webui/extensions/stable-diffusion-webui-images-browser\n",
        "\n",
        "#DynamicPrompts(プロンプトのランダム選択とWildCardsの使用をできるやつ)\n",
        "!git clone https://github.com/adieyal/sd-dynamic-prompts.git /content/stable-diffusion-webui/extensions/sd-dynamic-prompts\n",
        "\n",
        "#WildCardsにテキストファイルをアップロード\n",
        "#マイドライブの下にwildcardsという名前のフォルダを作って、wildcardsフォルダの中にテキストファイルを入れて下さい！\n",
        "#普段WildCards使ってなかったら次の行の先頭に#をつけたら、その行はスキップされるので、普段使わない人は#を追加して下さい！\n",
        "%mkdir /content/stable-diffusion-webui/extensions/sd-dynamic-prompts/wildcards\n",
        "!cp /content/drive/MyDrive/wildcards/*.txt /content/stable-diffusion-webui/extensions/sd-dynamic-prompts/wildcards\n",
        "\n",
        "#ControlNet（特定のポーズをさせたり色々便利なやつ）\n",
        "!git clone https://github.com/Mikubill/sd-webui-controlnet.git /content/stable-diffusion-webui/extensions/sd-webui-controlnet\n",
        "\n",
        "#ContorolNetの各モデル(depth, openpose, scribble, segment, landmarks)のDL\n",
        "#ControlNetのModelsフォルダに移動\n",
        "%cd /content/stable-diffusion-webui/extensions/sd-webui-controlnet/models\n",
        "\n",
        "#各モデルのダウンロード\n",
        "!git clone https://huggingface.co/lllyasviel/ControlNet-v1-1\n",
        "!mv ./ControlNet-v1-1/*pth /content/stable-diffusion-webui/extensions/sd-webui-controlnet/models\n",
        "!rm -r ./ControlNet-v1-1\n",
        "\n",
        "#再度Extensionsフォルダに移動\n",
        "%cd /content/stable-diffusion-webui/extensions\n",
        "\n",
        "#3d-open-pose-editor（ControlNetで使う棒人間をWebUI上で３Dで作れる拡張機能）SD1.5じゃControlNetに画像を送れないっぽい？\n",
        "#!git clone https://github.com/nonnonstop/sd-webui-3d-open-pose-editor.git /content/stable-diffusion-webui/extensions/sd-webui-3d-open-pose-editor\n",
        "\n",
        "#Depth map library and poser(ControlNetのdepthで使える手の修正に特化した拡張機能)のインストール\n",
        "!git clone https://github.com/jexom/sd-webui-depth-lib.git /content/stable-diffusion-webui/extensions/sd-webui-depth-lib\n",
        "\n",
        "#CutOff（プロンプト同士の影響を切れるやつ。red eyes, black hairとかにして、赤い髪になったりしない）\n",
        "!git clone https://github.com/hnmr293/sd-webui-cutoff.git /content/stable-diffusion-webui/extensions/sd-webui-cutoff\n",
        "\n",
        "#MuitiDiffusion with Tiled VAE(細かいとこまで描画するやつ。Hires.fixより早いとの噂。正しい設定を理解してないとちゃんと動かない)\n",
        "!git clone https://github.com/pkuliyi2015/multidiffusion-upscaler-for-automatic1111.git /content/stable-diffusion-webui/extensions/multidiffusion-upscaler-for-automatic1111\n",
        "\n",
        "#Tokenマージで早くするやつ\n",
        "!git clone https://github.com/SLAPaper/a1111-sd-webui-tome.git /content/stable-diffusion-webui/extensions/a1111-sd-webui-tome\n",
        "\n",
        "#ぶるぺんさんのタグが勝手に出る便利なやつ。\n",
        "#!git clone https://github.com/blue-pen5805/sdweb-easy-prompt-selector.git\n",
        "#!cp /content/drive/MyDrive/tags/*.yml /content/stable-diffusion-webui/extensions/sdweb-easy-prompt-selector/tags "
      ],
      "metadata": {
        "id": "gn1StVCfdgIj"
      },
      "execution_count": null,
      "outputs": []
    },
    {
      "cell_type": "code",
      "source": [
        "# embeddingsの追加\n",
        "%cd /content/stable-diffusion-webui/embeddings\n",
        "#!curl -LO https://huggingface.co/nolanaatama/chomni/resolve/main/*\n",
        "!git clone https://huggingface.co/nolanaatama/embeddings\n",
        "!mv ./embeddings/* .\n",
        "!rm -r /content/stable-diffusion-webui/embeddings/embeddings"
      ],
      "metadata": {
        "id": "wXHJjicOg-mH"
      },
      "execution_count": null,
      "outputs": []
    },
    {
      "cell_type": "code",
      "source": [
        "#LoRAの追加\n",
        "%mkdir /content/stable-diffusion-webui/models/Lora\n",
        "%cd /content/stable-diffusion-webui/models/Lora\n",
        "#韓国顔のLoRA\n",
        "!curl -Lo kdllora.safetensors https://huggingface.co/Kanbara/doll-likeness-series/resolve/main/koreanDollLikeness_v20.safetensors\n",
        "\n",
        "#日本顔のLoRA\n",
        "!curl -Lo jdllora.safetensors https://huggingface.co/Kanbara/doll-likeness-series/resolve/main/japaneseDollLikeness_v10.safetensors\n",
        "\n",
        "#台湾顔のLoRA\n",
        "!curl -Lo tdllora.safetensors https://huggingface.co/Kanbara/doll-likeness-series/resolve/main/taiwanDollLikeness_v15.safetensors"
      ],
      "metadata": {
        "id": "pbQaQa_HhBm0"
      },
      "execution_count": null,
      "outputs": []
    },
    {
      "cell_type": "markdown",
      "source": [
        "次のセルが実際にUIを起動するセルです。\n",
        "\n",
        "<font color= \"red\">UIが固まった時とかは、一度次のセルを停止して、再度実行すると再起動されます。\n",
        "\n",
        "<font color= \"red\">一番上からやり直す必要はありません。"
      ],
      "metadata": {
        "id": "QeLzTz1Uuet3"
      }
    },
    {
      "cell_type": "code",
      "source": [
        "#WebUIの実行\n",
        "%cd /content/stable-diffusion-webui\n",
        "!COMMANDLINE_ARGS=\"--share --disable-safe-unpickle --no-half-vae --opt-sdp-no-mem-attention --enable-insecure-extension-access   --gradio-queue --remotemoe\" python launch.py"
      ],
      "metadata": {
        "id": "-s9d4XXuw8Aq"
      },
      "execution_count": null,
      "outputs": []
    },
    {
      "cell_type": "markdown",
      "source": [
        "一枚一枚ダウンロードするのが面倒という人は、\n",
        "\n",
        "下のセルを実行すると作成した全ての画像がZIPファイルに圧縮されてMyDriveに保存されます。\n",
        "\n",
        "<font color= \"red\">ランタイムを切断すると画像のダウンロードは出来なくなるので、切断する前に実行して下さい！"
      ],
      "metadata": {
        "id": "zVr7BmG8vH2b"
      }
    },
    {
      "cell_type": "code",
      "source": [
        "#生成した画像をZIPに圧縮して、MyDriveに保存。outputs.zipという名前で保存される。\n",
        "%cd /content/stable-diffusion-webui/\n",
        "\n",
        "import shutil\n",
        "shutil.make_archive('outputs', format='zip', root_dir='outputs')\n",
        "\n",
        "!cp ./outputs.zip /content/drive/MyDrive/"
      ],
      "metadata": {
        "id": "oSZ4UNFJbn7Y"
      },
      "execution_count": null,
      "outputs": []
    }
  ]
}